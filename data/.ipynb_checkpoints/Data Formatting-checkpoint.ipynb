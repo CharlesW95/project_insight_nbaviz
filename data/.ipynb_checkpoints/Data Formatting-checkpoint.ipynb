{
 "cells": [
  {
   "cell_type": "code",
   "execution_count": 1,
   "metadata": {
    "collapsed": true
   },
   "outputs": [],
   "source": [
    "import pandas as pd\n",
    "import numpy as np\n",
    "import csv\n",
    "import re"
   ]
  },
  {
   "cell_type": "code",
   "execution_count": null,
   "metadata": {
    "collapsed": true
   },
   "outputs": [],
   "source": []
  },
  {
   "cell_type": "code",
   "execution_count": 2,
   "metadata": {
    "collapsed": false
   },
   "outputs": [],
   "source": [
    "data = pd.read_csv(\"./warriors_points_data.csv\")"
   ]
  },
  {
   "cell_type": "code",
   "execution_count": 3,
   "metadata": {
    "collapsed": false
   },
   "outputs": [
    {
     "data": {
      "text/html": [
       "<div>\n",
       "<table border=\"1\" class=\"dataframe\">\n",
       "  <thead>\n",
       "    <tr style=\"text-align: right;\">\n",
       "      <th></th>\n",
       "      <th>Player</th>\n",
       "      <th>Rk</th>\n",
       "      <th>G</th>\n",
       "      <th>Date</th>\n",
       "      <th>Age</th>\n",
       "      <th>Tm</th>\n",
       "      <th>Home</th>\n",
       "      <th>Opp</th>\n",
       "      <th>Unnamed: 8</th>\n",
       "      <th>GS</th>\n",
       "      <th>...</th>\n",
       "      <th>DRB</th>\n",
       "      <th>TRB</th>\n",
       "      <th>AST</th>\n",
       "      <th>STL</th>\n",
       "      <th>BLK</th>\n",
       "      <th>TOV</th>\n",
       "      <th>PF</th>\n",
       "      <th>PTS</th>\n",
       "      <th>GmSc</th>\n",
       "      <th>+/-</th>\n",
       "    </tr>\n",
       "  </thead>\n",
       "  <tbody>\n",
       "    <tr>\n",
       "      <th>0</th>\n",
       "      <td>Stephen Curry</td>\n",
       "      <td>1</td>\n",
       "      <td>1</td>\n",
       "      <td>10/25/16</td>\n",
       "      <td>28-225</td>\n",
       "      <td>GSW</td>\n",
       "      <td>NaN</td>\n",
       "      <td>SAS</td>\n",
       "      <td>L (-29)</td>\n",
       "      <td>1</td>\n",
       "      <td>...</td>\n",
       "      <td>3</td>\n",
       "      <td>3</td>\n",
       "      <td>4</td>\n",
       "      <td>0</td>\n",
       "      <td>0</td>\n",
       "      <td>4</td>\n",
       "      <td>1</td>\n",
       "      <td>26</td>\n",
       "      <td>15.9</td>\n",
       "      <td>-9</td>\n",
       "    </tr>\n",
       "    <tr>\n",
       "      <th>1</th>\n",
       "      <td>Stephen Curry</td>\n",
       "      <td>2</td>\n",
       "      <td>2</td>\n",
       "      <td>10/28/16</td>\n",
       "      <td>28-228</td>\n",
       "      <td>GSW</td>\n",
       "      <td>@</td>\n",
       "      <td>NOP</td>\n",
       "      <td>W (+8)</td>\n",
       "      <td>1</td>\n",
       "      <td>...</td>\n",
       "      <td>0</td>\n",
       "      <td>1</td>\n",
       "      <td>8</td>\n",
       "      <td>1</td>\n",
       "      <td>0</td>\n",
       "      <td>4</td>\n",
       "      <td>3</td>\n",
       "      <td>23</td>\n",
       "      <td>14.6</td>\n",
       "      <td>4</td>\n",
       "    </tr>\n",
       "    <tr>\n",
       "      <th>2</th>\n",
       "      <td>Stephen Curry</td>\n",
       "      <td>3</td>\n",
       "      <td>3</td>\n",
       "      <td>10/30/16</td>\n",
       "      <td>28-230</td>\n",
       "      <td>GSW</td>\n",
       "      <td>@</td>\n",
       "      <td>PHO</td>\n",
       "      <td>W (+6)</td>\n",
       "      <td>1</td>\n",
       "      <td>...</td>\n",
       "      <td>1</td>\n",
       "      <td>1</td>\n",
       "      <td>3</td>\n",
       "      <td>0</td>\n",
       "      <td>0</td>\n",
       "      <td>1</td>\n",
       "      <td>5</td>\n",
       "      <td>28</td>\n",
       "      <td>19.1</td>\n",
       "      <td>2</td>\n",
       "    </tr>\n",
       "    <tr>\n",
       "      <th>3</th>\n",
       "      <td>Stephen Curry</td>\n",
       "      <td>4</td>\n",
       "      <td>4</td>\n",
       "      <td>11/1/16</td>\n",
       "      <td>28-232</td>\n",
       "      <td>GSW</td>\n",
       "      <td>@</td>\n",
       "      <td>POR</td>\n",
       "      <td>W (+23)</td>\n",
       "      <td>1</td>\n",
       "      <td>...</td>\n",
       "      <td>3</td>\n",
       "      <td>4</td>\n",
       "      <td>3</td>\n",
       "      <td>1</td>\n",
       "      <td>0</td>\n",
       "      <td>4</td>\n",
       "      <td>3</td>\n",
       "      <td>28</td>\n",
       "      <td>16.4</td>\n",
       "      <td>24</td>\n",
       "    </tr>\n",
       "    <tr>\n",
       "      <th>4</th>\n",
       "      <td>Stephen Curry</td>\n",
       "      <td>5</td>\n",
       "      <td>5</td>\n",
       "      <td>11/3/16</td>\n",
       "      <td>28-234</td>\n",
       "      <td>GSW</td>\n",
       "      <td>NaN</td>\n",
       "      <td>OKC</td>\n",
       "      <td>W (+26)</td>\n",
       "      <td>1</td>\n",
       "      <td>...</td>\n",
       "      <td>1</td>\n",
       "      <td>1</td>\n",
       "      <td>7</td>\n",
       "      <td>2</td>\n",
       "      <td>1</td>\n",
       "      <td>1</td>\n",
       "      <td>1</td>\n",
       "      <td>21</td>\n",
       "      <td>19.7</td>\n",
       "      <td>16</td>\n",
       "    </tr>\n",
       "  </tbody>\n",
       "</table>\n",
       "<p>5 rows × 31 columns</p>\n",
       "</div>"
      ],
      "text/plain": [
       "          Player  Rk  G      Date     Age   Tm Home  Opp Unnamed: 8 GS ...  \\\n",
       "0  Stephen Curry   1  1  10/25/16  28-225  GSW  NaN  SAS    L (-29)  1 ...   \n",
       "1  Stephen Curry   2  2  10/28/16  28-228  GSW    @  NOP     W (+8)  1 ...   \n",
       "2  Stephen Curry   3  3  10/30/16  28-230  GSW    @  PHO     W (+6)  1 ...   \n",
       "3  Stephen Curry   4  4   11/1/16  28-232  GSW    @  POR    W (+23)  1 ...   \n",
       "4  Stephen Curry   5  5   11/3/16  28-234  GSW  NaN  OKC    W (+26)  1 ...   \n",
       "\n",
       "  DRB TRB AST STL BLK TOV PF PTS  GmSc +/-  \n",
       "0   3   3   4   0   0   4  1  26  15.9  -9  \n",
       "1   0   1   8   1   0   4  3  23  14.6   4  \n",
       "2   1   1   3   0   0   1  5  28  19.1   2  \n",
       "3   3   4   3   1   0   4  3  28  16.4  24  \n",
       "4   1   1   7   2   1   1  1  21  19.7  16  \n",
       "\n",
       "[5 rows x 31 columns]"
      ]
     },
     "execution_count": 3,
     "metadata": {},
     "output_type": "execute_result"
    }
   ],
   "source": [
    "data.head()"
   ]
  },
  {
   "cell_type": "code",
   "execution_count": 4,
   "metadata": {
    "collapsed": true
   },
   "outputs": [],
   "source": [
    "# Clean up the data by replacing invalid values\n",
    "data.loc[(data[\"PTS\"] == \"Inactive\") | (data[\"PTS\"] == \"Did Not Dress\"), \"PTS\"] = 0\n",
    "data.loc[(data[\"MP\"] == \"Inactive\") | (data[\"MP\"] == \"Did Not Dress\"), \"MP\"] = \"0:\" # Very Hacky"
   ]
  },
  {
   "cell_type": "code",
   "execution_count": 5,
   "metadata": {
    "collapsed": true
   },
   "outputs": [],
   "source": [
    "# Parse out minutes played from MP column\n",
    "def parseMinutes(row):\n",
    "    mr = re.match(\"[0-9]+:\", row[\"MP\"])\n",
    "    try:\n",
    "        return int(mr.string[mr.start():mr.end()-1])\n",
    "    except:\n",
    "        print(row)\n",
    "\n",
    "minsPlayed = data.apply(parseMinutes, axis=1)"
   ]
  },
  {
   "cell_type": "code",
   "execution_count": 6,
   "metadata": {
    "collapsed": false
   },
   "outputs": [
    {
     "ename": "AttributeError",
     "evalue": "'module' object has no attribute 'to_numeric'",
     "output_type": "error",
     "traceback": [
      "\u001b[0;31m---------------------------------------------------------------------------\u001b[0m",
      "\u001b[0;31mAttributeError\u001b[0m                            Traceback (most recent call last)",
      "\u001b[0;32m<ipython-input-6-cfaca3b6ab5c>\u001b[0m in \u001b[0;36m<module>\u001b[0;34m()\u001b[0m\n\u001b[0;32m----> 1\u001b[0;31m \u001b[0mdata\u001b[0m\u001b[0;34m[\u001b[0m\u001b[0;34m\"PTS\"\u001b[0m\u001b[0;34m]\u001b[0m \u001b[0;34m=\u001b[0m \u001b[0mpd\u001b[0m\u001b[0;34m.\u001b[0m\u001b[0mto_numeric\u001b[0m\u001b[0;34m(\u001b[0m\u001b[0mdata\u001b[0m\u001b[0;34m[\u001b[0m\u001b[0;34m\"PTS\"\u001b[0m\u001b[0;34m]\u001b[0m\u001b[0;34m,\u001b[0m \u001b[0merrors\u001b[0m\u001b[0;34m=\u001b[0m\u001b[0;34m\"coerce\"\u001b[0m\u001b[0;34m)\u001b[0m\u001b[0;34m\u001b[0m\u001b[0m\n\u001b[0m\u001b[1;32m      2\u001b[0m \u001b[0mdata\u001b[0m\u001b[0;34m[\u001b[0m\u001b[0;34m\"MinutesPlayed\"\u001b[0m\u001b[0;34m]\u001b[0m \u001b[0;34m=\u001b[0m \u001b[0mminsPlayed\u001b[0m\u001b[0;34m\u001b[0m\u001b[0m\n",
      "\u001b[0;31mAttributeError\u001b[0m: 'module' object has no attribute 'to_numeric'"
     ]
    }
   ],
   "source": [
    "data[\"PTS\"] = pd.to_numeric(data[\"PTS\"], errors=\"coerce\")\n",
    "data[\"MinutesPlayed\"] = minsPlayed"
   ]
  },
  {
   "cell_type": "code",
   "execution_count": null,
   "metadata": {
    "collapsed": true
   },
   "outputs": [],
   "source": []
  },
  {
   "cell_type": "code",
   "execution_count": null,
   "metadata": {
    "collapsed": false
   },
   "outputs": [],
   "source": [
    "def pointsPerMinute(row):\n",
    "    points = row[\"PTS\"]\n",
    "    minutesPlayed = row[\"MinutesPlayed\"]\n",
    "    \n",
    "    if minutesPlayed == 0:\n",
    "        return 0\n",
    "    else:\n",
    "        return float(points)/float(minutesPlayed)"
   ]
  },
  {
   "cell_type": "code",
   "execution_count": null,
   "metadata": {
    "collapsed": true
   },
   "outputs": [],
   "source": [
    "data[\"PPM\"] = data.apply(pointsPerMinute, axis=1)"
   ]
  },
  {
   "cell_type": "code",
   "execution_count": null,
   "metadata": {
    "collapsed": false
   },
   "outputs": [],
   "source": [
    "data[\"Player\"].value_counts()"
   ]
  },
  {
   "cell_type": "code",
   "execution_count": null,
   "metadata": {
    "collapsed": false
   },
   "outputs": [],
   "source": [
    "data[\"PPM\"].describe()"
   ]
  },
  {
   "cell_type": "code",
   "execution_count": 7,
   "metadata": {
    "collapsed": false
   },
   "outputs": [],
   "source": [
    "scurry = data.loc[data[\"Player\"] == \"Stephen Curry\", ]\n",
    "kthompson = data.loc[data[\"Player\"] == \"Klay Thompson\", ]\n",
    "kdurant = data.loc[data[\"Player\"] == \"Kevin Durant\", ]\n",
    "dgreen = data.loc[data[\"Player\"] == \"Draymond Green\", ]"
   ]
  },
  {
   "cell_type": "code",
   "execution_count": 8,
   "metadata": {
    "collapsed": false
   },
   "outputs": [
    {
     "name": "stdout",
     "output_type": "stream",
     "text": [
      "2/2/17\n"
     ]
    }
   ],
   "source": [
    "# Draymond Green is missing 1 value, find out which.\n",
    "unique_dates_scurry = scurry[\"Date\"].unique()\n",
    "unique_dates_dgreen = dgreen[\"Date\"].unique()\n",
    "for d in unique_dates_scurry:\n",
    "    if d not in unique_dates_dgreen:\n",
    "        print(d)"
   ]
  },
  {
   "cell_type": "code",
   "execution_count": 9,
   "metadata": {
    "collapsed": false
   },
   "outputs": [],
   "source": [
    "scurry = scurry[:-1]\n",
    "kthompson = kthompson[:-1]\n",
    "kdurant = kdurant[:-1]"
   ]
  },
  {
   "cell_type": "code",
   "execution_count": 10,
   "metadata": {
    "collapsed": false
   },
   "outputs": [],
   "source": [
    "dates = scurry.loc[:,\"Date\"]"
   ]
  },
  {
   "cell_type": "code",
   "execution_count": 11,
   "metadata": {
    "collapsed": false
   },
   "outputs": [],
   "source": [
    "scurry_final = scurry.reset_index()[\"PTS\"]\n",
    "kthompson_final = kthompson.reset_index()[\"PTS\"]\n",
    "kdurant_final = kdurant.reset_index()[\"PTS\"]\n",
    "dgreen_final = dgreen.reset_index()[\"PTS\"]"
   ]
  },
  {
   "cell_type": "code",
   "execution_count": 28,
   "metadata": {
    "collapsed": false
   },
   "outputs": [],
   "source": [
    "# scurry[\"Unnamed: 8\"].map(lambda x: if: \"W\" is in x, 1 else: 0)\n",
    "win = scurry[\"Unnamed: 8\"].map( lambda x: 1 if \"W\" in x else 0)"
   ]
  },
  {
   "cell_type": "code",
   "execution_count": 33,
   "metadata": {
    "collapsed": false
   },
   "outputs": [],
   "source": [
    "finalDF = pd.DataFrame({\n",
    "        \"Date\": dates,\n",
    "        \"Win\" : win,\n",
    "        \"Stephen Curry\": scurry_final,\n",
    "        \"Klay Thompson\": kthompson_final,\n",
    "        \"Kevin Durant\": kdurant_final,\n",
    "        \"Draymond Green\": dgreen_final\n",
    "    })"
   ]
  },
  {
   "cell_type": "code",
   "execution_count": 34,
   "metadata": {
    "collapsed": false
   },
   "outputs": [],
   "source": [
    "finalDF.to_csv(\"formatted_data.csv\", sep=\",\")\n",
    "finalDF.to_json(\"formatted_data.json\")"
   ]
  },
  {
   "cell_type": "code",
   "execution_count": null,
   "metadata": {
    "collapsed": false
   },
   "outputs": [],
   "source": []
  },
  {
   "cell_type": "code",
   "execution_count": null,
   "metadata": {
    "collapsed": true
   },
   "outputs": [],
   "source": []
  }
 ],
 "metadata": {
  "anaconda-cloud": {},
  "kernelspec": {
   "display_name": "Python [conda env:Cartopy]",
   "language": "python",
   "name": "conda-env-Cartopy-py"
  },
  "language_info": {
   "codemirror_mode": {
    "name": "ipython",
    "version": 3
   },
   "file_extension": ".py",
   "mimetype": "text/x-python",
   "name": "python",
   "nbconvert_exporter": "python",
   "pygments_lexer": "ipython3",
   "version": "3.4.5"
  }
 },
 "nbformat": 4,
 "nbformat_minor": 1
}
