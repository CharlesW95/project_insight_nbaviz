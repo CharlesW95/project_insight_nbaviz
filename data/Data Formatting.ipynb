{
 "cells": [
  {
   "cell_type": "code",
   "execution_count": 159,
   "metadata": {
    "collapsed": true
   },
   "outputs": [],
   "source": [
    "import pandas as pd\n",
    "import numpy as np\n",
    "import csv\n",
    "import re"
   ]
  },
  {
   "cell_type": "code",
   "execution_count": null,
   "metadata": {
    "collapsed": true
   },
   "outputs": [],
   "source": []
  },
  {
   "cell_type": "code",
   "execution_count": 160,
   "metadata": {
    "collapsed": false
   },
   "outputs": [],
   "source": [
    "data = pd.read_csv(\"./warriors_points_data.csv\")"
   ]
  },
  {
   "cell_type": "code",
   "execution_count": 161,
   "metadata": {
    "collapsed": false
   },
   "outputs": [
    {
     "data": {
      "text/html": [
       "<div>\n",
       "<table border=\"1\" class=\"dataframe\">\n",
       "  <thead>\n",
       "    <tr style=\"text-align: right;\">\n",
       "      <th></th>\n",
       "      <th>Player</th>\n",
       "      <th>Rk</th>\n",
       "      <th>G</th>\n",
       "      <th>Date</th>\n",
       "      <th>Age</th>\n",
       "      <th>Tm</th>\n",
       "      <th>Home</th>\n",
       "      <th>Opp</th>\n",
       "      <th>Unnamed: 8</th>\n",
       "      <th>GS</th>\n",
       "      <th>...</th>\n",
       "      <th>DRB</th>\n",
       "      <th>TRB</th>\n",
       "      <th>AST</th>\n",
       "      <th>STL</th>\n",
       "      <th>BLK</th>\n",
       "      <th>TOV</th>\n",
       "      <th>PF</th>\n",
       "      <th>PTS</th>\n",
       "      <th>GmSc</th>\n",
       "      <th>+/-</th>\n",
       "    </tr>\n",
       "  </thead>\n",
       "  <tbody>\n",
       "    <tr>\n",
       "      <th>0</th>\n",
       "      <td>Stephen Curry</td>\n",
       "      <td>1</td>\n",
       "      <td>1.0</td>\n",
       "      <td>10/25/16</td>\n",
       "      <td>28-225</td>\n",
       "      <td>GSW</td>\n",
       "      <td>NaN</td>\n",
       "      <td>SAS</td>\n",
       "      <td>L (-29)</td>\n",
       "      <td>1</td>\n",
       "      <td>...</td>\n",
       "      <td>3</td>\n",
       "      <td>3</td>\n",
       "      <td>4</td>\n",
       "      <td>0</td>\n",
       "      <td>0</td>\n",
       "      <td>4</td>\n",
       "      <td>1</td>\n",
       "      <td>26</td>\n",
       "      <td>15.9</td>\n",
       "      <td>-9</td>\n",
       "    </tr>\n",
       "    <tr>\n",
       "      <th>1</th>\n",
       "      <td>Stephen Curry</td>\n",
       "      <td>2</td>\n",
       "      <td>2.0</td>\n",
       "      <td>10/28/16</td>\n",
       "      <td>28-228</td>\n",
       "      <td>GSW</td>\n",
       "      <td>@</td>\n",
       "      <td>NOP</td>\n",
       "      <td>W (+8)</td>\n",
       "      <td>1</td>\n",
       "      <td>...</td>\n",
       "      <td>0</td>\n",
       "      <td>1</td>\n",
       "      <td>8</td>\n",
       "      <td>1</td>\n",
       "      <td>0</td>\n",
       "      <td>4</td>\n",
       "      <td>3</td>\n",
       "      <td>23</td>\n",
       "      <td>14.6</td>\n",
       "      <td>4</td>\n",
       "    </tr>\n",
       "    <tr>\n",
       "      <th>2</th>\n",
       "      <td>Stephen Curry</td>\n",
       "      <td>3</td>\n",
       "      <td>3.0</td>\n",
       "      <td>10/30/16</td>\n",
       "      <td>28-230</td>\n",
       "      <td>GSW</td>\n",
       "      <td>@</td>\n",
       "      <td>PHO</td>\n",
       "      <td>W (+6)</td>\n",
       "      <td>1</td>\n",
       "      <td>...</td>\n",
       "      <td>1</td>\n",
       "      <td>1</td>\n",
       "      <td>3</td>\n",
       "      <td>0</td>\n",
       "      <td>0</td>\n",
       "      <td>1</td>\n",
       "      <td>5</td>\n",
       "      <td>28</td>\n",
       "      <td>19.1</td>\n",
       "      <td>2</td>\n",
       "    </tr>\n",
       "    <tr>\n",
       "      <th>3</th>\n",
       "      <td>Stephen Curry</td>\n",
       "      <td>4</td>\n",
       "      <td>4.0</td>\n",
       "      <td>11/1/16</td>\n",
       "      <td>28-232</td>\n",
       "      <td>GSW</td>\n",
       "      <td>@</td>\n",
       "      <td>POR</td>\n",
       "      <td>W (+23)</td>\n",
       "      <td>1</td>\n",
       "      <td>...</td>\n",
       "      <td>3</td>\n",
       "      <td>4</td>\n",
       "      <td>3</td>\n",
       "      <td>1</td>\n",
       "      <td>0</td>\n",
       "      <td>4</td>\n",
       "      <td>3</td>\n",
       "      <td>28</td>\n",
       "      <td>16.4</td>\n",
       "      <td>24</td>\n",
       "    </tr>\n",
       "    <tr>\n",
       "      <th>4</th>\n",
       "      <td>Stephen Curry</td>\n",
       "      <td>5</td>\n",
       "      <td>5.0</td>\n",
       "      <td>11/3/16</td>\n",
       "      <td>28-234</td>\n",
       "      <td>GSW</td>\n",
       "      <td>NaN</td>\n",
       "      <td>OKC</td>\n",
       "      <td>W (+26)</td>\n",
       "      <td>1</td>\n",
       "      <td>...</td>\n",
       "      <td>1</td>\n",
       "      <td>1</td>\n",
       "      <td>7</td>\n",
       "      <td>2</td>\n",
       "      <td>1</td>\n",
       "      <td>1</td>\n",
       "      <td>1</td>\n",
       "      <td>21</td>\n",
       "      <td>19.7</td>\n",
       "      <td>16</td>\n",
       "    </tr>\n",
       "  </tbody>\n",
       "</table>\n",
       "<p>5 rows × 31 columns</p>\n",
       "</div>"
      ],
      "text/plain": [
       "          Player  Rk    G      Date     Age   Tm Home  Opp Unnamed: 8 GS ...  \\\n",
       "0  Stephen Curry   1  1.0  10/25/16  28-225  GSW  NaN  SAS    L (-29)  1 ...   \n",
       "1  Stephen Curry   2  2.0  10/28/16  28-228  GSW    @  NOP     W (+8)  1 ...   \n",
       "2  Stephen Curry   3  3.0  10/30/16  28-230  GSW    @  PHO     W (+6)  1 ...   \n",
       "3  Stephen Curry   4  4.0   11/1/16  28-232  GSW    @  POR    W (+23)  1 ...   \n",
       "4  Stephen Curry   5  5.0   11/3/16  28-234  GSW  NaN  OKC    W (+26)  1 ...   \n",
       "\n",
       "  DRB TRB AST STL BLK TOV PF PTS  GmSc +/-  \n",
       "0   3   3   4   0   0   4  1  26  15.9  -9  \n",
       "1   0   1   8   1   0   4  3  23  14.6   4  \n",
       "2   1   1   3   0   0   1  5  28  19.1   2  \n",
       "3   3   4   3   1   0   4  3  28  16.4  24  \n",
       "4   1   1   7   2   1   1  1  21  19.7  16  \n",
       "\n",
       "[5 rows x 31 columns]"
      ]
     },
     "execution_count": 161,
     "metadata": {},
     "output_type": "execute_result"
    }
   ],
   "source": [
    "data.head()"
   ]
  },
  {
   "cell_type": "code",
   "execution_count": 162,
   "metadata": {
    "collapsed": true
   },
   "outputs": [],
   "source": [
    "# Clean up the data by replacing invalid values\n",
    "data.loc[(data[\"PTS\"] == \"Inactive\") | (data[\"PTS\"] == \"Did Not Dress\"), \"PTS\"] = 0\n",
    "data.loc[(data[\"MP\"] == \"Inactive\") | (data[\"MP\"] == \"Did Not Dress\"), \"MP\"] = \"0:\" # Very Hacky"
   ]
  },
  {
   "cell_type": "code",
   "execution_count": 163,
   "metadata": {
    "collapsed": true
   },
   "outputs": [],
   "source": [
    "# Parse out minutes played from MP column\n",
    "def parseMinutes(row):\n",
    "    mr = re.match(\"[0-9]+:\", row[\"MP\"])\n",
    "    try:\n",
    "        return int(mr.string[mr.start():mr.end()-1])\n",
    "    except:\n",
    "        print(row)\n",
    "\n",
    "minsPlayed = data.apply(parseMinutes, axis=1)"
   ]
  },
  {
   "cell_type": "code",
   "execution_count": 164,
   "metadata": {
    "collapsed": false
   },
   "outputs": [],
   "source": [
    "data[\"PTS\"] = pd.to_numeric(data[\"PTS\"], errors=\"coerce\")\n",
    "data[\"MinutesPlayed\"] = minsPlayed"
   ]
  },
  {
   "cell_type": "code",
   "execution_count": null,
   "metadata": {
    "collapsed": true
   },
   "outputs": [],
   "source": []
  },
  {
   "cell_type": "code",
   "execution_count": 165,
   "metadata": {
    "collapsed": false
   },
   "outputs": [],
   "source": [
    "def pointsPerMinute(row):\n",
    "    points = row[\"PTS\"]\n",
    "    minutesPlayed = row[\"MinutesPlayed\"]\n",
    "    \n",
    "    if minutesPlayed == 0:\n",
    "        return 0\n",
    "    else:\n",
    "        return float(points)/float(minutesPlayed)"
   ]
  },
  {
   "cell_type": "code",
   "execution_count": 166,
   "metadata": {
    "collapsed": true
   },
   "outputs": [],
   "source": [
    "data[\"PPM\"] = data.apply(pointsPerMinute, axis=1)"
   ]
  },
  {
   "cell_type": "code",
   "execution_count": 167,
   "metadata": {
    "collapsed": false
   },
   "outputs": [
    {
     "data": {
      "text/plain": [
       "Klay Thompson     50\n",
       "Stephen Curry     50\n",
       "Kevin Durant      50\n",
       "Draymond Green    49\n",
       "Name: Player, dtype: int64"
      ]
     },
     "execution_count": 167,
     "metadata": {},
     "output_type": "execute_result"
    }
   ],
   "source": [
    "data[\"Player\"].value_counts()"
   ]
  },
  {
   "cell_type": "code",
   "execution_count": 168,
   "metadata": {
    "collapsed": false
   },
   "outputs": [
    {
     "data": {
      "text/plain": [
       "count    199.000000\n",
       "mean       0.618419\n",
       "std        0.296565\n",
       "min        0.000000\n",
       "25%        0.427069\n",
       "50%        0.625000\n",
       "75%        0.785831\n",
       "max        2.068966\n",
       "Name: PPM, dtype: float64"
      ]
     },
     "execution_count": 168,
     "metadata": {},
     "output_type": "execute_result"
    }
   ],
   "source": [
    "data[\"PPM\"].describe()"
   ]
  },
  {
   "cell_type": "code",
   "execution_count": 169,
   "metadata": {
    "collapsed": false
   },
   "outputs": [],
   "source": [
    "scurry = data.loc[data[\"Player\"] == \"Stephen Curry\", ]\n",
    "kthompson = data.loc[data[\"Player\"] == \"Klay Thompson\", ]\n",
    "kdurant = data.loc[data[\"Player\"] == \"Kevin Durant\", ]\n",
    "dgreen = data.loc[data[\"Player\"] == \"Draymond Green\", ]"
   ]
  },
  {
   "cell_type": "code",
   "execution_count": 170,
   "metadata": {
    "collapsed": false
   },
   "outputs": [
    {
     "name": "stdout",
     "output_type": "stream",
     "text": [
      "2/2/17\n"
     ]
    }
   ],
   "source": [
    "# Draymond Green is missing 1 value, find out which.\n",
    "unique_dates_scurry = scurry[\"Date\"].unique()\n",
    "unique_dates_dgreen = dgreen[\"Date\"].unique()\n",
    "for d in unique_dates_scurry:\n",
    "    if d not in unique_dates_dgreen:\n",
    "        print(d)"
   ]
  },
  {
   "cell_type": "code",
   "execution_count": 171,
   "metadata": {
    "collapsed": false
   },
   "outputs": [],
   "source": [
    "scurry = scurry[:-1]\n",
    "kthompson = kthompson[:-1]\n",
    "kdurant = kdurant[:-1]"
   ]
  },
  {
   "cell_type": "code",
   "execution_count": 138,
   "metadata": {
    "collapsed": false
   },
   "outputs": [],
   "source": [
    "dates = scurry.loc[:,\"Date\"]"
   ]
  },
  {
   "cell_type": "code",
   "execution_count": 191,
   "metadata": {
    "collapsed": false
   },
   "outputs": [],
   "source": [
    "scurry_final = scurry.reset_index()[\"PPM\"]\n",
    "kthompson_final = kthompson.reset_index()[\"PPM\"]\n",
    "kdurant_final = kdurant.reset_index()[\"PPM\"]\n",
    "dgreen_final = dgreen.reset_index()[\"PPM\"]"
   ]
  },
  {
   "cell_type": "code",
   "execution_count": 190,
   "metadata": {
    "collapsed": false
   },
   "outputs": [
    {
     "data": {
      "text/plain": [
       "0     0.750000\n",
       "1     0.769231\n",
       "2     1.000000\n",
       "3     0.666667\n",
       "4     1.258065\n",
       "5     0.771429\n",
       "6     0.611111\n",
       "7     0.800000\n",
       "8     0.620690\n",
       "9     0.783784\n",
       "10    0.857143\n",
       "11    0.718750\n",
       "12    0.942857\n",
       "13    0.518519\n",
       "14    0.933333\n",
       "15    0.878788\n",
       "16    0.736842\n",
       "17    0.694444\n",
       "18    0.795918\n",
       "19    0.625000\n",
       "20    0.909091\n",
       "21    0.516129\n",
       "22    0.583333\n",
       "23    0.700000\n",
       "24    0.594595\n",
       "25    0.729730\n",
       "26    0.454545\n",
       "27    1.133333\n",
       "28    0.916667\n",
       "29    0.787879\n",
       "30    1.032258\n",
       "31    0.947368\n",
       "32    0.578947\n",
       "33    0.542857\n",
       "34    0.617647\n",
       "35    0.810811\n",
       "36    0.642857\n",
       "37    0.777778\n",
       "38    0.777778\n",
       "39    0.806452\n",
       "40    0.750000\n",
       "41    1.212121\n",
       "42    0.969697\n",
       "43    0.517241\n",
       "44    0.750000\n",
       "45    0.916667\n",
       "46    0.821429\n",
       "47    0.916667\n",
       "48    0.562500\n",
       "Name: PPM, dtype: float64"
      ]
     },
     "execution_count": 190,
     "metadata": {},
     "output_type": "execute_result"
    }
   ],
   "source": []
  },
  {
   "cell_type": "code",
   "execution_count": 192,
   "metadata": {
    "collapsed": false
   },
   "outputs": [],
   "source": [
    "finalDF = pd.DataFrame({\n",
    "        \"Date\": dates,\n",
    "        \"Stephen Curry\": scurry_final,\n",
    "        \"Klay Thompson\": kthompson_final,\n",
    "        \"Kevin Durant\": kdurant_final,\n",
    "        \"Draymond Green\": dgreen_final\n",
    "    })"
   ]
  },
  {
   "cell_type": "code",
   "execution_count": 193,
   "metadata": {
    "collapsed": false
   },
   "outputs": [],
   "source": [
    "finalDF.to_csv(\"formatted_data.csv\", sep=\",\")"
   ]
  },
  {
   "cell_type": "code",
   "execution_count": 153,
   "metadata": {
    "collapsed": false
   },
   "outputs": [
    {
     "data": {
      "text/plain": [
       "149    0.333333\n",
       "150    0.736842\n",
       "151    0.350000\n",
       "152    0.466667\n",
       "153    0.562500\n",
       "154    0.270270\n",
       "155    0.631579\n",
       "156    0.714286\n",
       "157    0.612903\n",
       "158    0.909091\n",
       "159    0.483871\n",
       "160    0.933333\n",
       "161    0.783784\n",
       "162    0.961538\n",
       "163    1.130435\n",
       "164    0.545455\n",
       "165    0.605263\n",
       "166    0.540541\n",
       "167    0.319149\n",
       "168    0.787879\n",
       "169    2.068966\n",
       "170    0.685714\n",
       "171    0.370370\n",
       "172    0.258065\n",
       "173    0.789474\n",
       "174    0.459459\n",
       "175    0.781250\n",
       "176    0.640000\n",
       "177    0.548387\n",
       "178    0.657143\n",
       "179    0.459459\n",
       "180    0.600000\n",
       "181    0.617647\n",
       "182    0.828571\n",
       "183    0.675676\n",
       "184    0.378378\n",
       "185    0.414634\n",
       "186    0.500000\n",
       "187    0.000000\n",
       "188    0.657143\n",
       "189    0.838710\n",
       "190    0.482759\n",
       "191    0.470588\n",
       "192    0.636364\n",
       "193    0.594595\n",
       "194    0.593750\n",
       "195    0.615385\n",
       "196    0.771429\n",
       "197    0.878788\n",
       "Name: PPM, dtype: float64"
      ]
     },
     "execution_count": 153,
     "metadata": {},
     "output_type": "execute_result"
    }
   ],
   "source": []
  },
  {
   "cell_type": "code",
   "execution_count": null,
   "metadata": {
    "collapsed": true
   },
   "outputs": [],
   "source": []
  }
 ],
 "metadata": {
  "kernelspec": {
   "display_name": "Python 2",
   "language": "python",
   "name": "python2"
  },
  "language_info": {
   "codemirror_mode": {
    "name": "ipython",
    "version": 2
   },
   "file_extension": ".py",
   "mimetype": "text/x-python",
   "name": "python",
   "nbconvert_exporter": "python",
   "pygments_lexer": "ipython2",
   "version": "2.7.12"
  }
 },
 "nbformat": 4,
 "nbformat_minor": 1
}
